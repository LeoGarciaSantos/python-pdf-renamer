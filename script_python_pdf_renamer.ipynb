{
 "cells": [
  {
   "cell_type": "code",
   "execution_count": null,
   "id": "52b1472d",
   "metadata": {},
   "outputs": [],
   "source": [
    "import os\n",
    "import shutil\n",
    "from datetime import datetime\n",
    "\n",
    "start_datetime = datetime.now()\n",
    "print('Automation start:', start_datetime.strftime(\"Date: %m/%d/%y - Time: %H:%M:%S\"))\n",
    "\n",
    "directory = 'path/directory'\n",
    "\n",
    "for file_name in os.listdir(directory):\n",
    "    if file_name.endswith('.pdf'):\n",
    "        new_name = file_name[:7] + '_CIPP.pdf'\n",
    "\n",
    "        old_path = os.path.join(directory, file_name)\n",
    "        new_path = os.path.join(directory, new_name)\n",
    "\n",
    "        shutil.move(old_path, new_path)\n",
    "\n",
    "        print(f'The file \"{file_name}\" was renamed to \"{new_name}\".')\n",
    "\n",
    "end_datetime = datetime.now()\n",
    "print('Automation end:', end_datetime.strftime(\"Date: %m/%d/%y - Time: %H:%M:%S\"))\n",
    "\n",
    "automation_duration = end_datetime - start_datetime\n",
    "print('Files renamed. - Execution time:', automation_duration)"
   ]
  }
 ],
 "metadata": {
  "kernelspec": {
   "display_name": "Python 3 (ipykernel)",
   "language": "python",
   "name": "python3"
  },
  "language_info": {
   "codemirror_mode": {
    "name": "ipython",
    "version": 3
   },
   "file_extension": ".py",
   "mimetype": "text/x-python",
   "name": "python",
   "nbconvert_exporter": "python",
   "pygments_lexer": "ipython3",
   "version": "3.9.7"
  }
 },
 "nbformat": 4,
 "nbformat_minor": 5
}
